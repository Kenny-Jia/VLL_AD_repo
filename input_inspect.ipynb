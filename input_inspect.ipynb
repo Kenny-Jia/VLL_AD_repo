{
 "cells": [
  {
   "cell_type": "code",
   "execution_count": 1,
   "metadata": {},
   "outputs": [],
   "source": [
    "import numpy as np, matplotlib.pyplot as plt\n",
    "from matplotlib.backends.backend_pdf import PdfPages"
   ]
  },
  {
   "cell_type": "code",
   "execution_count": 2,
   "metadata": {},
   "outputs": [],
   "source": [
    "# ── load arrays ───────────────────────────────────────────\n",
    "e = np.load('output_model_directory/signal_data_e_v2_preserve.npy')   # (N,4,14)\n",
    "p = np.load('output_model_directory/signal_data_p_v2_preserve.npy')   # (N,4,13)\n",
    "m = np.load('output_model_directory/signal_models_v2_preserve.npy')   # (N,)\n",
    "\n",
    "mask_short = m == \"600_290_0p1ns\"\n",
    "mask_long  = m == \"600_290_10ns\"\n",
    "\n",
    "e_s, e_l = e[mask_short], e[mask_long]\n",
    "p_s, p_l = p[mask_short], p[mask_long]"
   ]
  },
  {
   "cell_type": "code",
   "execution_count": 4,
   "metadata": {},
   "outputs": [],
   "source": [
    "# helper: drop rows whose energy (feature 0) is zero for the given slot\n",
    "def keep_by_E(arr):\n",
    "    out = []\n",
    "    for slot in range(4):\n",
    "        slot_rows = arr[arr[:, slot, 0] != 0.0, slot, :]   # (N_eff, F)\n",
    "        out.append(slot_rows)\n",
    "    return out\n",
    "\n",
    "e_s, e_l = map(keep_by_E, (e_s, e_l))     # each → list[slot] of (N_eff,14)\n",
    "p_s, p_l = map(keep_by_E, (p_s, p_l))     # each → list[slot] of (N_eff,13)"
   ]
  },
  {
   "cell_type": "code",
   "execution_count": 5,
   "metadata": {},
   "outputs": [],
   "source": [
    "# ── additional loads ──────────────────────────────────────────\n",
    "d_e = np.load('train_data_e_preserve.npy')        # (N,4,15)  ← DATA\n",
    "d_p = np.load('train_data_p_preserve.npy')        # (N,4,13)\n",
    "d_e, d_p = map(keep_by_E, (d_e, d_p))    "
   ]
  },
  {
   "cell_type": "code",
   "execution_count": 14,
   "metadata": {},
   "outputs": [],
   "source": [
    "def bounds(*arrs):\n",
    "    d = np.concatenate(arrs)\n",
    "    mu, s = d.mean(), d.std()\n",
    "    return mu - 4*s, mu + 4*s"
   ]
  },
  {
   "cell_type": "code",
   "execution_count": 8,
   "metadata": {},
   "outputs": [],
   "source": [
    "hkw = dict(bins=20, histtype=\"step\", lw=1.4, density=True)"
   ]
  },
  {
   "cell_type": "code",
   "execution_count": 15,
   "metadata": {},
   "outputs": [],
   "source": [
    "electron_labels = [\n",
    "    'electron_E', 'electron_pt', 'electron_eta', 'electron_phi',\n",
    "    'electron_time',\n",
    "    'electron_d0', 'electron_z0', 'electron_dpt',\n",
    "    'electron_nPIX', 'electron_nMissingLayers',\n",
    "    'electron_chi2', 'electron_numberDoF',\n",
    "    'electron_f1', 'electron_f3'               # 0-13 → matches signal\n",
    "]\n",
    "photon_labels = [\n",
    "    'photon_E', 'photon_pt', 'photon_eta', 'photon_phi',\n",
    "    'photon_time',\n",
    "    'photon_maxEcell_E',\n",
    "    'photon_f1', 'photon_f3', 'photon_r1', 'photon_r2',\n",
    "    'photon_etas1', 'photon_phis1', 'photon_z'\n",
    "]\n",
    "\n",
    "# ── electrons ────────────────────────────────────────────────\n",
    "with PdfPages(\"600_290_lifetime_overlay_filtered.pdf\") as pdf:\n",
    "    for slot in range(4):\n",
    "        for feat in range(14):                       # 0-13 only\n",
    "            lo, hi = bounds(e_s[slot][:, feat],\n",
    "                             e_l[slot][:, feat],\n",
    "                             d_e[slot][:, feat])\n",
    "            plt.figure()\n",
    "            plt.hist(d_e[slot][:, feat], range=(lo, hi), label=\"data\", **hkw)\n",
    "            plt.hist(e_s[slot][:, feat], range=(lo, hi), label=\"0.1 ns\", **hkw)\n",
    "            plt.hist(e_l[slot][:, feat], range=(lo, hi), label=\"10 ns\", **hkw)\n",
    "            plt.xlim(lo, hi)\n",
    "            plt.title(f\"Electron slot {slot} – {electron_labels[feat]}\")\n",
    "            plt.xlabel(electron_labels[feat]); plt.ylabel(\"pdf\"); plt.legend()\n",
    "            pdf.savefig(); plt.close()\n",
    "\n",
    "    # ── photons ───────────────────────────────────────────────\n",
    "    for slot in range(4):\n",
    "        for feat in range(13):\n",
    "            lo, hi = bounds(p_s[slot][:, feat],\n",
    "                             p_l[slot][:, feat],\n",
    "                             d_p[slot][:, feat])\n",
    "            plt.figure()\n",
    "            plt.hist(d_p[slot][:, feat], range=(lo, hi), label=\"data\", **hkw)\n",
    "            plt.hist(p_s[slot][:, feat], range=(lo, hi), label=\"0.1 ns\", **hkw)\n",
    "            plt.hist(p_l[slot][:, feat], range=(lo, hi), label=\"10 ns\", **hkw)\n",
    "            plt.xlim(lo, hi)\n",
    "            plt.title(f\"Photon slot {slot} – {photon_labels[feat]}\")\n",
    "            plt.xlabel(photon_labels[feat]); plt.ylabel(\"pdf\"); plt.legend()\n",
    "            pdf.savefig(); plt.close()"
   ]
  },
  {
   "cell_type": "code",
   "execution_count": 13,
   "metadata": {},
   "outputs": [
    {
     "data": {
      "image/png": "[encoded data removed]",
      "text/plain": [
       "<Figure size 640x480 with 1 Axes>"
      ]
     },
     "metadata": {},
     "output_type": "display_data"
    }
   ],
   "source": [
    "# ── prep (reuse previous helpers / loads) ───────────────────\n",
    "feat  = 4                         # time index\n",
    "hkw   = dict(bins=20, histtype=\"step\", lw=1.4, density=True)\n",
    "\n",
    "d_e   = keep_by_E(np.load('train_data_e_preserve.npy'))   # raw data\n",
    "\n",
    "# ── time-only overlay (slot 0) ──────────────────────────────\n",
    "slot = 0\n",
    "d, s, l = d_e[slot][:, feat], e_s[slot][:, feat], e_l[slot][:, feat]\n",
    "\n",
    "lo, hi = -1, 10\n",
    "plt.figure()\n",
    "plt.hist(d, range=(lo, hi), label=\"data\",   **hkw)\n",
    "plt.hist(s, range=(lo, hi), label=\"0.1 ns\", **hkw)\n",
    "plt.hist(l, range=(lo, hi), label=\"10 ns\",  **hkw)\n",
    "plt.xlim(lo, hi)\n",
    "plt.title(\"Electron slot 0 – electron_time\")\n",
    "plt.xlabel(\"time [ns]\")\n",
    "plt.ylabel(\"pdf\")\n",
    "plt.legend()\n",
    "plt.show()\n"
   ]
  },
  {
   "cell_type": "code",
   "execution_count": null,
   "metadata": {},
   "outputs": [],
   "source": [
    "def corr_with_E(datasets, labels, name):\n",
    "    \"\"\"\n",
    "    datasets : list like [data_arr, short_arr, long_arr]\n",
    "               each element is list[slot] → (N_eff, F)\n",
    "    labels   : feature names (len = F)\n",
    "    \"\"\"\n",
    "    for slot in range(4):\n",
    "        # Pearson r for every feature except energy itself\n",
    "        r = [ [np.corrcoef(ds[slot][:,0], ds[slot][:,f])[0,1]\n",
    "                if ds[slot].size else np.nan           # guard empty slots\n",
    "                for f in range(1, ds[slot].shape[1]) ] # skip f=0\n",
    "              for ds in datasets ]                     # → 3×(F‑1)\n",
    "\n",
    "        x      = np.arange(len(labels)-1)\n",
    "        width  = 0.25\n",
    "        plt.figure(figsize=(10,4))\n",
    "        plt.bar(x-width, r[0],  width, label=\"data\")\n",
    "        plt.bar(x,         r[1], width, label=\"0.1 ns\")\n",
    "        plt.bar(x+width,  r[2],  width, label=\"10 ns\")\n",
    "        plt.xticks(x, labels[1:], rotation=90)\n",
    "        plt.ylim(-1,1)\n",
    "        plt.ylabel(\"Pearson r(E, feature)\")\n",
    "        plt.title(f\"{name} slot {slot} – correlation with energy\")\n",
    "        plt.legend(); plt.tight_layout()\n",
    "        pdf.savefig(); plt.close()\n",
    "\n",
    "# append after the photon loop, still inside the same PdfPages block\n",
    "corr_with_E([d_e, e_s, e_l], electron_labels, \"Electron\")\n",
    "corr_with_E([d_p, p_s, p_l], photon_labels,  \"Photon\")"
   ]
  },
  {
   "cell_type": "code",
   "execution_count": 17,
   "metadata": {},
   "outputs": [
    {
     "data": {
      "image/png": "[encoded data removed]",
      "text/plain": [
       "<Figure size 640x480 with 1 Axes>"
      ]
     },
     "metadata": {},
     "output_type": "display_data"
    }
   ],
   "source": [
    "# ── prep (reuse previous helpers / loads) ───────────────────\n",
    "feat  = 4                         # time index\n",
    "hkw   = dict(bins=20, histtype=\"step\", lw=1.4, density=True)\n",
    "\n",
    "d_p   = keep_by_E(np.load('train_data_p_preserve.npy'))   # raw data\n",
    "\n",
    "# ── time-only overlay (slot 0) ──────────────────────────────\n",
    "slot = 0\n",
    "d, s, l = d_p[slot][:, feat], p_s[slot][:, feat], p_l[slot][:, feat]\n",
    "\n",
    "lo, hi = -1, 10\n",
    "plt.figure()\n",
    "plt.hist(d, range=(lo, hi), label=\"data\",   **hkw)\n",
    "plt.hist(s, range=(lo, hi), label=\"0.1 ns\", **hkw)\n",
    "plt.hist(l, range=(lo, hi), label=\"10 ns\",  **hkw)\n",
    "plt.xlim(lo, hi)\n",
    "plt.title(\"Photon slot 0 – photon_time\")\n",
    "plt.xlabel(\"time [ns]\")\n",
    "plt.ylabel(\"pdf\")\n",
    "plt.legend()\n",
    "plt.show()\n"
   ]
  }
 ],
 "metadata": {
  "kernelspec": {
   "display_name": "ML_env",
   "language": "python",
   "name": "python3"
  },
  "language_info": {
   "codemirror_mode": {
    "name": "ipython",
    "version": 3
   },
   "file_extension": ".py",
   "mimetype": "text/x-python",
   "name": "python",
   "nbconvert_exporter": "python",
   "pygments_lexer": "ipython3",
   "version": "3.11.10"
  }
 },
 "nbformat": 4,
 "nbformat_minor": 2
}
